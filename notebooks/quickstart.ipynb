{
 "cells": [
  {
   "cell_type": "code",
   "execution_count": null,
   "metadata": {},
   "outputs": [],
   "source": [
    "# setup\n",
    "\n",
    "import sys\n",
    "from pathlib import Path\n",
    "\n",
    "try:\n",
    "    dirpath = Path(globals()['_dh'][0]).parent\n",
    "except KeyError:\n",
    "    dirpath = Path(__file__).parent.parent\n",
    "sys.path.append(str(dirpath))\n",
    "\n",
    "import logging\n",
    "import warnings\n",
    "\n",
    "logging.basicConfig(level=logging.ERROR)\n",
    "warnings.filterwarnings(\"ignore\", category=DeprecationWarning)\n",
    "warnings.filterwarnings(\"ignore\", category=UserWarning)\n"
   ]
  },
  {
   "cell_type": "markdown",
   "metadata": {},
   "source": [
    "## Installation\n",
    "\n",
    "We recommend that you create a virtual environment to run ngautonml.  To do so with conda, run:\n",
    "```\n",
    "conda create -n env-name python=3.9\n",
    "conda activate env-name\n",
    "```\n",
    "\n",
    "Install the whole system via `pip`.\n",
    "```\n",
    "pip install ngautonml\n",
    "```\n",
    "\n",
    "ngAutonML is designed to run on Python 3.9 and above."
   ]
  },
  {
   "cell_type": "code",
   "execution_count": null,
   "metadata": {},
   "outputs": [],
   "source": [
    "%%capture\n",
    "import os\n",
    "if 'RUNNING_IN_TEST' not in os.environ:\n",
    "    %pip install ngautonml"
   ]
  },
  {
   "cell_type": "markdown",
   "metadata": {},
   "source": [
    "## Select a Dataset\n",
    "\n",
    "For this example, we will use the [sklearn breast cancer dataset](https://scikit-learn.org/stable/modules/generated/sklearn.datasets.load_breast_cancer.html#sklearn.datasets.load_breast_cancer), a binary classification problem. \n",
    "ngAutonML also supports regression, multiclass classification, image classification and time series forecasting."
   ]
  },
  {
   "cell_type": "code",
   "execution_count": null,
   "metadata": {},
   "outputs": [],
   "source": [
    "from sklearn import datasets\n",
    "breast_cancer = datasets.load_breast_cancer(as_frame=True)\n",
    "df = breast_cancer.frame\n",
    "df"
   ]
  },
  {
   "cell_type": "markdown",
   "metadata": {},
   "source": [
    "## Split into Train and Test sets. \n",
    "\n",
    "The train set is used to fit and rank pipelines. The test set is optional data to predict on using the trained pipelines. It should not contain the target column (and ngautonml will remove it if it finds it)."
   ]
  },
  {
   "cell_type": "code",
   "execution_count": null,
   "metadata": {},
   "outputs": [],
   "source": [
    "train = df.head(549)\n",
    "test = df.tail(20)\n",
    "del test['target']"
   ]
  },
  {
   "cell_type": "markdown",
   "metadata": {},
   "source": [
    "## Create a Problem Definition\n",
    "\n",
    "A [ProblemDefinition](https://autonlab.gitlab.io/ngautonml/_autosummary/ngautonml.problem_def.problem_def.ProblemDefinition.html) fully defines a machine learning problem for ngAutonML to solve. In this example, we create one in python, but you can also read from a `problem_def.json` file by supplying a path to the file as the first argument.\n",
    "\n",
    "Setting `\"config\" : \"memory\"` indicates that the data is stored in-memory as a pandas dataframe (alternatively, set `\"config: local\"` for a dataset stored in a csv file). The `\"column_roles\"` clause specifies the name of the target column (in this case, just “target”). The `\"metric\"` clause specifies which metrics to use for scoring pipelines, in this case using accuracy and roc_auc.\n",
    "\n",
    "### Caution\n",
    "\n",
    "Setting `\"hyperparams\" : [\"disable_grid_search\"]` makes ngAutonML run considerably faster at the cost of worse results. This should be removed when running production problems."
   ]
  },
  {
   "cell_type": "code",
   "execution_count": null,
   "metadata": {},
   "outputs": [],
   "source": [
    "from ngautonml.problem_def.problem_def import ProblemDefinition\n",
    "pdef_dict = {\n",
    "    \"dataset\" : {\n",
    "        \"config\" : \"memory\",\n",
    "        \"params\" : {\n",
    "            \"train_data\": \"train\",\n",
    "            \"test_data\": \"test\"\n",
    "        },\n",
    "        \"column_roles\": {\n",
    "            \"target\": {\n",
    "                \"name\": \"target\"\n",
    "            }\n",
    "        }\n",
    "    },\n",
    "    \"problem_type\" : {\n",
    "        \"data_type\": \"tabular\",\n",
    "        \"task\": \"binary_classification\"\n",
    "    },\n",
    "    \"metrics\" : {\n",
    "        \"accuracy_score\": {},\n",
    "        \"roc_auc_score\": {}\n",
    "    },\n",
    "    \"hyperparams\" : [\n",
    "        \"disable_grid_search\"\n",
    "    ]\n",
    "}\n",
    "pdef = ProblemDefinition(pdef_dict)"
   ]
  },
  {
   "cell_type": "markdown",
   "metadata": {},
   "source": [
    "Create a [Wrangler](https://autonlab.gitlab.io/ngautonml/_autosummary/ngautonml.wrangler.wrangler.Wrangler.html) object and run `fit_predict_rank`.\n",
    "\n",
    "ngAutonML generates a set of **pipelines** to solve the problem, and evaluates **metrics** on them to determine how well they do. A **pipeline** is essentially a sequence of **algorithms** to apply to the data set to yield predictions. A **metric** is a function that takes both predictions and **ground truth** as input, and returns a number representing how good the predictions are."
   ]
  },
  {
   "cell_type": "code",
   "execution_count": null,
   "metadata": {},
   "outputs": [],
   "source": [
    "from ngautonml.wrangler.wrangler import Wrangler\n",
    "\n",
    "wrangler = Wrangler(\n",
    "    problem_definition=pdef)\n",
    "\n",
    "got = wrangler.fit_predict_rank()\n",
    "print(got.rankings)"
   ]
  }
 ],
 "metadata": {
  "kernelspec": {
   "display_name": "picard39",
   "language": "python",
   "name": "python3"
  },
  "language_info": {
   "codemirror_mode": {
    "name": "ipython",
    "version": 3
   },
   "file_extension": ".py",
   "mimetype": "text/x-python",
   "name": "python",
   "nbconvert_exporter": "python",
   "pygments_lexer": "ipython3",
   "version": "3.9.18"
  }
 },
 "nbformat": 4,
 "nbformat_minor": 2
}
